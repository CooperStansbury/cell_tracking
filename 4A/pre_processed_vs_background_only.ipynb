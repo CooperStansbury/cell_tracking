{
 "cells": [
  {
   "cell_type": "code",
   "execution_count": 1,
   "metadata": {},
   "outputs": [],
   "source": [
    "import pandas as pd\n",
    "import numpy as np\n",
    "import os\n",
    "import math\n",
    "\n",
    "import matplotlib\n",
    "import matplotlib.pyplot as plt\n",
    "import seaborn as sns"
   ]
  },
  {
   "cell_type": "code",
   "execution_count": null,
   "metadata": {},
   "outputs": [],
   "source": [
    "root_dir = \"/nfs/turbo/umms-indikar/shared/projects/live_cell_imaging/WH04/processing_comparison/\"\n",
    "\n",
    "experiments = {\n",
    "    \"B3\" : \"Control\",\n",
    "    \"B4\" : \"MyoD\",\n",
    "}\n",
    "\n",
    "df_list = []\n",
    "\n",
    "for _dir, condition in experiments.items():\n",
    "    file_path  =f\"{root_dir}{_dir}/Cell Count Summary Blue.csv\"\n",
    "    tmp = pd.read_csv(file_path)\n",
    "    \n",
    "    tmp['Scene'] = _dir\n",
    "    tmp['Condition'] = condition\n",
    "    tmp['Frame'] = tmp.index + 1\n",
    "    df_list.append(tmp)\n",
    "    \n",
    "df = pd.concat(df_list, ignore_index=True)\n",
    "df.head()"
   ]
  }
 ],
 "metadata": {
  "kernelspec": {
   "display_name": "Python 3",
   "language": "python",
   "name": "python3"
  },
  "language_info": {
   "codemirror_mode": {
    "name": "ipython",
    "version": 3
   },
   "file_extension": ".py",
   "mimetype": "text/x-python",
   "name": "python",
   "nbconvert_exporter": "python",
   "pygments_lexer": "ipython3",
   "version": "3.8.3"
  }
 },
 "nbformat": 4,
 "nbformat_minor": 4
}
