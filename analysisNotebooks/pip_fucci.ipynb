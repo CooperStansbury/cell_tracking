{
 "cells": [
  {
   "cell_type": "code",
   "execution_count": 1,
   "metadata": {},
   "outputs": [],
   "source": [
    "import pandas as pd\n",
    "import numpy as np\n",
    "import os\n",
    "import math\n",
    "\n",
    "import matplotlib\n",
    "import matplotlib.pyplot as plt\n",
    "import seaborn as sns"
   ]
  },
  {
   "cell_type": "code",
   "execution_count": null,
   "metadata": {},
   "outputs": [],
   "source": [
    "root_dir = \"/nfs/turbo/umms-indikar/shared/projects/live_cell_imaging/6A/subset_outputs/B5/\"\n",
    "\n",
    "MINUTES_PER_FRAME = 25\n",
    "\n",
    "\n",
    "for _dir, condition in experiments.items():\n",
    "    tracks_path = f\"{root_dir}{_dir}/Track statistics.csv\"\n",
    "    tracks = pd.read_csv(tracks_path)\n",
    "    \n",
    "    spots_path = f\"{root_dir}{_dir}/All Spots statistics.csv\"\n",
    "    spots = pd.read_csv(spots_path)\n",
    "    \n",
    "    \n",
    "    print(condition, spots['TRACK_ID'].nunique())\n",
    "    \n",
    "    # convert types\n",
    "    spots = spots[spots['TRACK_ID'] != \"None\"]\n",
    "    spots = spots.astype({\"TRACK_ID\": int})\n",
    "    \n",
    "    tracks = tracks.astype({\"TRACK_ID\": int})\n",
    "    \n",
    "    # merge \n",
    "    tmp = pd.merge(spots, tracks, how='left', on=['TRACK_ID'])\n",
    "    \n",
    "    # sort by ID then FRAME\n",
    "    tmp = tmp.sort_values(by=['TRACK_ID', 'FRAME'])\n",
    "\n",
    "    # add a grouped step \n",
    "    tmp.loc[:, 'STEP'] =  tmp.groupby(['TRACK_ID']).cumcount()\n",
    "    tmp.loc[:, 'NORMED_STEP'] = tmp['STEP'] / tmp['TRACK_DURATION']\n",
    "    \n",
    "    tmp['Scene'] = _dir\n",
    "    tmp['Condition'] = condition\n",
    "    tmp['Time'] = (tmp['FRAME'] * MINUTES_PER_FRAME) / 60\n",
    "    \n",
    "    tmp['TRACK_ID'] = tmp['TRACK_ID'].astype(str) + \"_\" + str(_dir)\n",
    "    df_list.append(tmp)\n",
    "    \n",
    "    \n",
    "df = pd.concat(df_list, ignore_index=True)\n",
    "\n",
    "df.head()"
   ]
  }
 ],
 "metadata": {
  "kernelspec": {
   "display_name": "Python 3",
   "language": "python",
   "name": "python3"
  },
  "language_info": {
   "codemirror_mode": {
    "name": "ipython",
    "version": 3
   },
   "file_extension": ".py",
   "mimetype": "text/x-python",
   "name": "python",
   "nbconvert_exporter": "python",
   "pygments_lexer": "ipython3",
   "version": "3.8.3"
  }
 },
 "nbformat": 4,
 "nbformat_minor": 4
}
