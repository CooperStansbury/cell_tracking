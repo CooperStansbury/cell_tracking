{
 "cells": [
  {
   "cell_type": "code",
   "execution_count": null,
   "metadata": {},
   "outputs": [],
   "source": [
    "import sys\n",
    "import os\n",
    "import pandas as pd\n",
    "import numpy as np\n",
    "from scipy import interpolate\n",
    "from importlib import reload\n",
    "from sklearn import preprocessing\n",
    "import multiprocessing as mp\n",
    "from functools import partial\n",
    "import scipy\n",
    "import pydmd "
   ]
  },
  {
   "cell_type": "code",
   "execution_count": null,
   "metadata": {},
   "outputs": [],
   "source": [
    "DATA_NAME = 'WH06_SC14'\n",
    "OUTPUT_DIR = f\"{DATA_NAME}_DMD\"\n",
    "DATA_PATH = \"/nfs/turbo/umms-indikar/shared/projects/live_cell_imaging/WH06/analysis_files/scene14/\""
   ]
  },
  {
   "cell_type": "code",
   "execution_count": null,
   "metadata": {},
   "outputs": [],
   "source": [
    "\"\"\"Create output folder for figures \"\"\"\n",
    "\n",
    "os.mkdir(OUTPUT_DIR)"
   ]
  },
  {
   "cell_type": "code",
   "execution_count": null,
   "metadata": {},
   "outputs": [],
   "source": [
    "\"\"\"Load the tracks\"\"\"\n",
    "\n",
    "\n",
    "LOW_INTENSITY_THRESHOLD = 0.4\n",
    "\n",
    "data = _tm.load_trackmate_dir(DATA_PATH)\n",
    "df = _tm.merge_tracks_and_all(data)\n",
    "df = _tm.clean_up_trackSpots(df, LOW_INTENSITY_THRESHOLD)\n",
    "print(df.shape)"
   ]
  },
  {
   "cell_type": "code",
   "execution_count": 1,
   "metadata": {},
   "outputs": [
    {
     "ename": "NameError",
     "evalue": "name 'df' is not defined",
     "output_type": "error",
     "traceback": [
      "\u001b[0;31m---------------------------------------------------------------------------\u001b[0m",
      "\u001b[0;31mNameError\u001b[0m                                 Traceback (most recent call last)",
      "\u001b[0;32m<ipython-input-1-46ce785800de>\u001b[0m in \u001b[0;36m<module>\u001b[0;34m\u001b[0m\n\u001b[1;32m     32\u001b[0m \u001b[0;34m\u001b[0m\u001b[0m\n\u001b[1;32m     33\u001b[0m \u001b[0msubregion_div\u001b[0m \u001b[0;34m=\u001b[0m \u001b[0;34m(\u001b[0m\u001b[0;36m50\u001b[0m\u001b[0;34m,\u001b[0m \u001b[0;36m50\u001b[0m\u001b[0;34m)\u001b[0m\u001b[0;34m\u001b[0m\u001b[0;34m\u001b[0m\u001b[0m\n\u001b[0;32m---> 34\u001b[0;31m \u001b[0mtensor\u001b[0m \u001b[0;34m=\u001b[0m \u001b[0mbuild_tensor\u001b[0m\u001b[0;34m(\u001b[0m\u001b[0mdf\u001b[0m\u001b[0;34m,\u001b[0m \u001b[0msubregion_div\u001b[0m\u001b[0;34m)\u001b[0m\u001b[0;34m\u001b[0m\u001b[0;34m\u001b[0m\u001b[0m\n\u001b[0m\u001b[1;32m     35\u001b[0m \u001b[0mplt\u001b[0m\u001b[0;34m.\u001b[0m\u001b[0mimshow\u001b[0m\u001b[0;34m(\u001b[0m\u001b[0mtensor\u001b[0m\u001b[0;34m[\u001b[0m\u001b[0;36m5\u001b[0m\u001b[0;34m]\u001b[0m\u001b[0;34m,\u001b[0m \u001b[0morigin\u001b[0m\u001b[0;34m=\u001b[0m\u001b[0;34m'lower'\u001b[0m\u001b[0;34m)\u001b[0m\u001b[0;34m\u001b[0m\u001b[0;34m\u001b[0m\u001b[0m\n",
      "\u001b[0;31mNameError\u001b[0m: name 'df' is not defined"
     ]
    }
   ],
   "source": [
    "\n",
    "def build_tensor(df, subregion_div):\n",
    "\n",
    "    frame = (int(df['POSITION_X'].max()), int(df['POSITION_Y'].max()))\n",
    "    \n",
    "    x_iter = np.linspace(0, frame[0], subregion_div[0]+1, dtype=int)\n",
    "    y_iter = np.linspace(0, frame[1], subregion_div[1]+1, dtype=int)\n",
    "\n",
    "    \n",
    "    TIME = df['FRAME'].max()\n",
    "    \n",
    "    T = np.zeros((TIME, subregion_div[0], subregion_div[1]))\n",
    "    \n",
    "    for t in range(TIME):\n",
    "    \n",
    "        for i, x_coord in enumerate(x_iter[1:]):\n",
    "            prev_x_coord = x_iter[i]\n",
    "\n",
    "            for j, y_coord in enumerate(y_iter[1:]):\n",
    "                prev_y_coord = y_iter[j]\n",
    "                \n",
    "                mask = (df['POSITION_X'] >= prev_x_coord) & (df['POSITION_X'] < x_coord) & \\\n",
    "                (df['POSITION_Y'] >= prev_y_coord) & (df['POSITION_Y'] < y_coord) & \\\n",
    "                (df['FRAME'] == t)\n",
    "            \n",
    "                hits = len(df[mask])\n",
    "            \n",
    "                T[t, j, i] = hits\n",
    "                \n",
    "    return list(T)\n",
    "\n",
    "\n",
    "    \n",
    "subregion_div = (50, 50)    \n",
    "tensor = build_tensor(df, subregion_div)  \n",
    "plt.imshow(tensor[5], origin='lower')"
   ]
  },
  {
   "cell_type": "code",
   "execution_count": 2,
   "metadata": {},
   "outputs": [
    {
     "ename": "NameError",
     "evalue": "name 'pydmd' is not defined",
     "output_type": "error",
     "traceback": [
      "\u001b[0;31m---------------------------------------------------------------------------\u001b[0m",
      "\u001b[0;31mNameError\u001b[0m                                 Traceback (most recent call last)",
      "\u001b[0;32m<ipython-input-2-19e1bf11ef9b>\u001b[0m in \u001b[0;36m<module>\u001b[0;34m\u001b[0m\n\u001b[0;32m----> 1\u001b[0;31m \u001b[0mdmd\u001b[0m \u001b[0;34m=\u001b[0m \u001b[0mpydmd\u001b[0m\u001b[0;34m.\u001b[0m\u001b[0mDMD\u001b[0m\u001b[0;34m(\u001b[0m\u001b[0msvd_rank\u001b[0m\u001b[0;34m=\u001b[0m\u001b[0;36m3\u001b[0m\u001b[0;34m,\u001b[0m \u001b[0mtlsq_rank\u001b[0m\u001b[0;34m=\u001b[0m\u001b[0;36m3\u001b[0m\u001b[0;34m,\u001b[0m \u001b[0mopt\u001b[0m\u001b[0;34m=\u001b[0m\u001b[0;32mTrue\u001b[0m\u001b[0;34m)\u001b[0m\u001b[0;34m\u001b[0m\u001b[0;34m\u001b[0m\u001b[0m\n\u001b[0m\u001b[1;32m      2\u001b[0m \u001b[0mdmd\u001b[0m\u001b[0;34m.\u001b[0m\u001b[0mfit\u001b[0m\u001b[0;34m(\u001b[0m\u001b[0mtensor\u001b[0m\u001b[0;34m)\u001b[0m\u001b[0;34m\u001b[0m\u001b[0;34m\u001b[0m\u001b[0m\n\u001b[1;32m      3\u001b[0m \u001b[0mdmd\u001b[0m\u001b[0;34m.\u001b[0m\u001b[0mplot_modes_2D\u001b[0m\u001b[0;34m(\u001b[0m\u001b[0mfigsize\u001b[0m\u001b[0;34m=\u001b[0m\u001b[0;34m(\u001b[0m\u001b[0;36m12\u001b[0m\u001b[0;34m,\u001b[0m\u001b[0;36m5\u001b[0m\u001b[0;34m)\u001b[0m\u001b[0;34m)\u001b[0m\u001b[0;34m\u001b[0m\u001b[0;34m\u001b[0m\u001b[0m\n",
      "\u001b[0;31mNameError\u001b[0m: name 'pydmd' is not defined"
     ]
    }
   ],
   "source": [
    "\n",
    "dmd = pydmd.DMD(svd_rank=3, tlsq_rank=3, opt=True)\n",
    "dmd.fit(tensor)\n",
    "dmd.plot_modes_2D(figsize=(12,5))"
   ]
  },
  {
   "cell_type": "code",
   "execution_count": 3,
   "metadata": {},
   "outputs": [
    {
     "ename": "NameError",
     "evalue": "name 'dmd' is not defined",
     "output_type": "error",
     "traceback": [
      "\u001b[0;31m---------------------------------------------------------------------------\u001b[0m",
      "\u001b[0;31mNameError\u001b[0m                                 Traceback (most recent call last)",
      "\u001b[0;32m<ipython-input-3-ff5bc766769e>\u001b[0m in \u001b[0;36m<module>\u001b[0;34m\u001b[0m\n\u001b[0;32m----> 1\u001b[0;31m \u001b[0;32mfor\u001b[0m \u001b[0mi\u001b[0m\u001b[0;34m,\u001b[0m \u001b[0mmode\u001b[0m \u001b[0;32min\u001b[0m \u001b[0menumerate\u001b[0m\u001b[0;34m(\u001b[0m\u001b[0mdmd\u001b[0m\u001b[0;34m.\u001b[0m\u001b[0mmodes\u001b[0m\u001b[0;34m.\u001b[0m\u001b[0mT\u001b[0m\u001b[0;34m)\u001b[0m\u001b[0;34m:\u001b[0m\u001b[0;34m\u001b[0m\u001b[0;34m\u001b[0m\u001b[0m\n\u001b[0m\u001b[1;32m      2\u001b[0m     \u001b[0mplt\u001b[0m\u001b[0;34m.\u001b[0m\u001b[0mplot\u001b[0m\u001b[0;34m(\u001b[0m\u001b[0mrange\u001b[0m\u001b[0;34m(\u001b[0m\u001b[0msubregion_div\u001b[0m\u001b[0;34m[\u001b[0m\u001b[0;36m0\u001b[0m\u001b[0;34m]\u001b[0m\u001b[0;34m*\u001b[0m\u001b[0msubregion_div\u001b[0m\u001b[0;34m[\u001b[0m\u001b[0;36m1\u001b[0m\u001b[0;34m]\u001b[0m\u001b[0;34m)\u001b[0m\u001b[0;34m,\u001b[0m \u001b[0mmode\u001b[0m\u001b[0;34m.\u001b[0m\u001b[0mreal\u001b[0m\u001b[0;34m)\u001b[0m\u001b[0;34m\u001b[0m\u001b[0;34m\u001b[0m\u001b[0m\n\u001b[1;32m      3\u001b[0m     \u001b[0mplt\u001b[0m\u001b[0;34m.\u001b[0m\u001b[0mtitle\u001b[0m\u001b[0;34m(\u001b[0m\u001b[0;34m'Modes'\u001b[0m\u001b[0;34m)\u001b[0m\u001b[0;34m\u001b[0m\u001b[0;34m\u001b[0m\u001b[0m\n\u001b[1;32m      4\u001b[0m \u001b[0mplt\u001b[0m\u001b[0;34m.\u001b[0m\u001b[0mshow\u001b[0m\u001b[0;34m(\u001b[0m\u001b[0;34m)\u001b[0m\u001b[0;34m\u001b[0m\u001b[0;34m\u001b[0m\u001b[0m\n\u001b[1;32m      5\u001b[0m \u001b[0;34m\u001b[0m\u001b[0m\n",
      "\u001b[0;31mNameError\u001b[0m: name 'dmd' is not defined"
     ]
    }
   ],
   "source": [
    "for i, mode in enumerate(dmd.modes.T):\n",
    "    plt.plot(range(subregion_div[0]*subregion_div[1]), mode.real)\n",
    "    plt.title('Modes')\n",
    "plt.show()\n",
    "\n",
    "for dynamic in dmd.dynamics:\n",
    "    plt.plot(range(154), dynamic.real)\n",
    "    plt.title('Dynamics')\n",
    "plt.show()"
   ]
  },
  {
   "cell_type": "code",
   "execution_count": null,
   "metadata": {},
   "outputs": [],
   "source": [
    "compute_integral = scipy.integrate.trapz\n",
    "\n",
    "dmd_states = [state.reshape(tensor[0].shape) for state in dmd.reconstructed_data.T]\n",
    "\n",
    "original_int = [compute_integral(compute_integral(t)).real for t in tensor]\n",
    "dmd_int = [compute_integral(compute_integral(state)).real for state in dmd_states]\n",
    "\n",
    "matplotlib.rcParams['figure.dpi'] = 200\n",
    "matplotlib.rcParams['figure.figsize'] = (15, 5)\n",
    "\n",
    "plt.plot(dmd.original_timesteps, original_int, 'bo', label='original snapshots')\n",
    "plt.plot(dmd.dmd_timesteps, dmd_int, 'r.', label='dmd states')\n",
    "plt.ylabel('Integral')\n",
    "plt.xlabel('Time')\n",
    "plt.grid()\n",
    "leg = plt.legend()"
   ]
  }
 ],
 "metadata": {
  "kernelspec": {
   "display_name": "Python 3",
   "language": "python",
   "name": "python3"
  },
  "language_info": {
   "codemirror_mode": {
    "name": "ipython",
    "version": 3
   },
   "file_extension": ".py",
   "mimetype": "text/x-python",
   "name": "python",
   "nbconvert_exporter": "python",
   "pygments_lexer": "ipython3",
   "version": "3.8.3"
  }
 },
 "nbformat": 4,
 "nbformat_minor": 4
}
