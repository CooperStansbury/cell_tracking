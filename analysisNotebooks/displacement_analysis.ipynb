{
 "cells": [
  {
   "cell_type": "code",
   "execution_count": null,
   "metadata": {},
   "outputs": [],
   "source": [
    "import sys\n",
    "import os\n",
    "import pandas as pd\n",
    "import numpy as np\n",
    "from importlib import reload\n",
    "\n",
    "# spatial analysis\n",
    "from pointpats import centrography\n",
    "\n",
    "# plotting\n",
    "import matplotlib\n",
    "import matplotlib.pyplot as plt\n",
    "import seaborn as sns\n",
    "from mpl_toolkits.axes_grid1 import make_axes_locatable\n",
    "\n",
    "# local import\n",
    "sys.path.append(\"../\")\n",
    "from utils.trackmate import dataEngineering as _tm\n",
    "from utils.visualization import generalPlots as _plot\n",
    "from utils.trackmate import spatialAnalysis as _stat"
   ]
  },
  {
   "cell_type": "code",
   "execution_count": null,
   "metadata": {},
   "outputs": [],
   "source": []
  },
  {
   "cell_type": "code",
   "execution_count": null,
   "metadata": {},
   "outputs": [],
   "source": []
  },
  {
   "cell_type": "code",
   "execution_count": null,
   "metadata": {},
   "outputs": [],
   "source": [
    "\"\"\"\n",
    "quiver plots\n",
    "\"\"\"\n",
    "\n",
    "rand_id = np.random.choice(df['TRACK_ID'])\n",
    "print(rand_id)\n",
    "tmp = df[df['TRACK_ID'] == rand_id]\n",
    "\n",
    "\n",
    "\n",
    "tmp.loc[:, 'point'] = tmp[['POSITION_X', 'POSITION_Y']].copy().apply(tuple, axis=1)\n",
    "tmp.loc[:, 'prev_point'] = tmp['point'].shift(1, fill_value=0)\n",
    "\n",
    "\n",
    "def _calc_slope(row):\n",
    "    if row['prev_point'] == 0:\n",
    "        return 0\n",
    "    \n",
    "    else:\n",
    "        x1=row['prev_point'][0]\n",
    "        x2=row['point'][0]\n",
    "\n",
    "        y1=row['prev_point'][1]\n",
    "        y2=row['point'][1]\n",
    "        return (y2 - y1) / (x2 - x1)\n",
    "    \n",
    "def _calc_dist(row):\n",
    "    if row['prev_point'] == 0:\n",
    "        return 0\n",
    "    \n",
    "    else:\n",
    "        x1=row['prev_point'][0]\n",
    "        x2=row['point'][0]\n",
    "\n",
    "        y1=row['prev_point'][1]\n",
    "        y2=row['point'][1]\n",
    "        \n",
    "        dist = np.linalg.norm(np.array((x1, y1))-np.array((x2, y2)))\n",
    "        \n",
    "        return dist\n",
    "    \n",
    "\n",
    "tmp['slope'] = tmp.apply(_calc_slope, axis=1)\n",
    "tmp['dist'] = tmp.apply(_calc_dist, axis=1)\n",
    "    \n",
    "tmp[['point', 'prev_point', 'slope', 'dist']].head()\n",
    "\n",
    "plt.quiver(tmp['POSITION_X'],tmp['POSITION_Y'],tmp['slope'], tmp['dist'])\n",
    "# plt.scatter(tmp['POSITION_X'],tmp['POSITION_Y'])"
   ]
  }
 ],
 "metadata": {
  "kernelspec": {
   "display_name": "Python 3",
   "language": "python",
   "name": "python3"
  },
  "language_info": {
   "codemirror_mode": {
    "name": "ipython",
    "version": 3
   },
   "file_extension": ".py",
   "mimetype": "text/x-python",
   "name": "python",
   "nbconvert_exporter": "python",
   "pygments_lexer": "ipython3",
   "version": "3.8.3"
  }
 },
 "nbformat": 4,
 "nbformat_minor": 4
}
